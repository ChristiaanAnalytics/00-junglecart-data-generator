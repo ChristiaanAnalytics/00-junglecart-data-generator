version https://git-lfs.github.com/spec/v1
oid sha256:f443e83a4b6d60da5ea4ebc92ba141812ea1e3daa22f9ac4ca67cd1d231e7429
size 53906
